{
 "cells": [
  {
   "cell_type": "code",
   "execution_count": null,
   "metadata": {},
   "outputs": [
    {
     "name": "stdout",
     "output_type": "stream",
     "text": [
      "9\n",
      "1\n",
      "20\n",
      "1.25\n",
      "Select an option\n",
      "1, Addition\n",
      "2, Subtraction\n",
      "3, Multiply\n",
      "4, Divide\n"
     ]
    },
    {
     "name": "stdout",
     "output_type": "stream",
     "text": [
      "Addition of two numbers 5 and 4 is-> 9\n",
      "subtraction of two numbers 5 and 4 is-> 1\n",
      "Multiply of two numbers 5 and 4 is-> 20\n",
      "Divide of two numbers 5 and 4 is-> 1.25\n"
     ]
    }
   ],
   "source": [
    "def add(a, b):\n",
    "    return a + b\n",
    "result = add(5, 4)\n",
    "print(result)\n",
    "#substraction\n",
    "def substract(a, b):\n",
    "    return a - b\n",
    "result= substract(5, 4)\n",
    "print(result)\n",
    "#multiplication\n",
    "def multiplication(a, b):\n",
    "    return a * b\n",
    "result= multiplication(5, 4)\n",
    "print(result)\n",
    "#division\n",
    "def division(a, b):\n",
    "    return a / b\n",
    "result= division(5, 4)\n",
    "print(result)\n",
    "#script\n",
    "print(\"Select an option\")\n",
    "print('1, Addition')\n",
    "print('2, Subtraction')\n",
    "print('3, Multiply')\n",
    "print('4, Divide')\n",
    "#input\n",
    "number_1=int(input(\"Enter first numbers\"))\n",
    "number_2=int(input(\"Enter second numbers\"))\n",
    "while (True):\n",
    "    choice=int(input(\"Enter the choice from(1/2/3/4)-->\"))\n",
    "    if choice in [1,2,3,4]:\n",
    "        if choice==1:\n",
    "            print(\"Addition of two numbers\" ,number_1,\"and\",number_2,\"is->\",add(number_1,number_2))\n",
    "        elif choice==2:\n",
    "            print(\"subtraction of two numbers\",number_1,\"and\",number_2,\"is->\",substract(number_1,number_2))\n",
    "        elif choice==3:\n",
    "            print(\"Multiply of two numbers\",number_1,\"and\",number_2,\"is->\",multiplication(number_1,number_2))\n",
    "        elif choice==4:\n",
    "            print(\"Divide of two numbers\",number_1,\"and\",number_2,\"is->\",division(number_1,number_2))"
   ]
  }
 ],
 "metadata": {
  "kernelspec": {
   "display_name": "Python 3",
   "language": "python",
   "name": "python3"
  },
  "language_info": {
   "codemirror_mode": {
    "name": "ipython",
    "version": 3
   },
   "file_extension": ".py",
   "mimetype": "text/x-python",
   "name": "python",
   "nbconvert_exporter": "python",
   "pygments_lexer": "ipython3",
   "version": "3.12.4"
  }
 },
 "nbformat": 4,
 "nbformat_minor": 2
}
